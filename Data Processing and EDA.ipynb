{
 "cells": [
  {
   "cell_type": "code",
   "execution_count": 1,
   "metadata": {},
   "outputs": [],
   "source": [
    "import pandas as pd\n",
    "import os\n",
    "import pickle\n",
    "import numpy as np\n",
    "import matplotlib.pyplot as plt\n",
    "import hashlib\n",
    "import pyprind\n",
    "%matplotlib inline"
   ]
  },
  {
   "cell_type": "code",
   "execution_count": 2,
   "metadata": {},
   "outputs": [
    {
     "data": {
      "text/plain": [
       "'C:\\\\Users\\\\mburn\\\\OneDrive\\\\ds\\\\metis\\\\bootcamp\\\\projects\\\\metis_03-McNulty\\\\scrapes'"
      ]
     },
     "execution_count": 2,
     "metadata": {},
     "output_type": "execute_result"
    }
   ],
   "source": [
    "os.chdir('scrapes')\n",
    "os.getcwd()"
   ]
  },
  {
   "cell_type": "code",
   "execution_count": 5,
   "metadata": {},
   "outputs": [
    {
     "name": "stdout",
     "output_type": "stream",
     "text": [
      "3170\n"
     ]
    }
   ],
   "source": [
    "jar = []\n",
    "\n",
    "for file in os.listdir():\n",
    "    if file.split(' ')[-1]=='shelf.pkl':\n",
    "        jar.append(file)\n",
    "\n",
    "print(len(jar))"
   ]
  },
  {
   "cell_type": "code",
   "execution_count": 6,
   "metadata": {},
   "outputs": [],
   "source": [
    "records = []\n",
    "\n",
    "progbar = pyprind.ProgBar(len(records))\n",
    "\n",
    "for file in jar:\n",
    "    #progbar.update()\n",
    "    d = pickle.load(open(file, \"rb\" ))\n",
    "    if len(d) != 0:\n",
    "        records = records+ d"
   ]
  },
  {
   "cell_type": "code",
   "execution_count": 8,
   "metadata": {},
   "outputs": [
    {
     "data": {
      "text/plain": [
       "1645097"
      ]
     },
     "execution_count": 8,
     "metadata": {},
     "output_type": "execute_result"
    }
   ],
   "source": [
    "len(records)"
   ]
  },
  {
   "cell_type": "code",
   "execution_count": 9,
   "metadata": {},
   "outputs": [
    {
     "data": {
      "text/html": [
       "<div>\n",
       "<style scoped>\n",
       "    .dataframe tbody tr th:only-of-type {\n",
       "        vertical-align: middle;\n",
       "    }\n",
       "\n",
       "    .dataframe tbody tr th {\n",
       "        vertical-align: top;\n",
       "    }\n",
       "\n",
       "    .dataframe thead th {\n",
       "        text-align: right;\n",
       "    }\n",
       "</style>\n",
       "<table border=\"1\" class=\"dataframe\">\n",
       "  <thead>\n",
       "    <tr style=\"text-align: right;\">\n",
       "      <th></th>\n",
       "      <th>userid</th>\n",
       "      <th>shelf</th>\n",
       "      <th>review_url</th>\n",
       "      <th>title</th>\n",
       "      <th>author</th>\n",
       "      <th>avg_rating</th>\n",
       "      <th>times_rated</th>\n",
       "      <th>rating</th>\n",
       "      <th>comments</th>\n",
       "      <th>likes</th>\n",
       "      <th>date_added</th>\n",
       "      <th>isbn</th>\n",
       "      <th>bookid</th>\n",
       "    </tr>\n",
       "  </thead>\n",
       "  <tbody>\n",
       "    <tr>\n",
       "      <th>0</th>\n",
       "      <td>1</td>\n",
       "      <td>adventure</td>\n",
       "      <td>/review/show/1087761751</td>\n",
       "      <td>Papillon</td>\n",
       "      <td>Charrière, Henri</td>\n",
       "      <td>4.24</td>\n",
       "      <td>47,157</td>\n",
       "      <td>4</td>\n",
       "      <td>0</td>\n",
       "      <td>3</td>\n",
       "      <td>Oct 23, 2014</td>\n",
       "      <td>0061120669</td>\n",
       "      <td>Charrière, Henri || Papillon</td>\n",
       "    </tr>\n",
       "    <tr>\n",
       "      <th>1</th>\n",
       "      <td>1</td>\n",
       "      <td>adventure</td>\n",
       "      <td>/review/show/1063234077</td>\n",
       "      <td>Stardust</td>\n",
       "      <td>Gaiman, Neil</td>\n",
       "      <td>4.08</td>\n",
       "      <td>302,140</td>\n",
       "      <td>5</td>\n",
       "      <td></td>\n",
       "      <td></td>\n",
       "      <td>Sep 24, 2014</td>\n",
       "      <td>iv&gt;&lt;/td&gt;</td>\n",
       "      <td>Gaiman, Neil || Stardust</td>\n",
       "    </tr>\n",
       "    <tr>\n",
       "      <th>2</th>\n",
       "      <td>1</td>\n",
       "      <td>adventure</td>\n",
       "      <td>/review/show/359992088</td>\n",
       "      <td>Alif the Unseen</td>\n",
       "      <td>Wilson, G. Willow</td>\n",
       "      <td>3.84</td>\n",
       "      <td>14,087</td>\n",
       "      <td>3</td>\n",
       "      <td></td>\n",
       "      <td></td>\n",
       "      <td>Jul 02, 2012</td>\n",
       "      <td>0802120202</td>\n",
       "      <td>Wilson, G. Willow || Alif the Unseen</td>\n",
       "    </tr>\n",
       "    <tr>\n",
       "      <th>3</th>\n",
       "      <td>1</td>\n",
       "      <td>adventure</td>\n",
       "      <td>/review/show/273133790</td>\n",
       "      <td>The Technologists</td>\n",
       "      <td>Pearl, Matthew</td>\n",
       "      <td>3.50</td>\n",
       "      <td>3,243</td>\n",
       "      <td>0</td>\n",
       "      <td>0</td>\n",
       "      <td>not set</td>\n",
       "      <td>Feb 06, 2012</td>\n",
       "      <td>1400066573</td>\n",
       "      <td>Pearl, Matthew || The Technologists</td>\n",
       "    </tr>\n",
       "    <tr>\n",
       "      <th>4</th>\n",
       "      <td>1</td>\n",
       "      <td>adventure</td>\n",
       "      <td>/review/show/170000076</td>\n",
       "      <td>The Diamond Age</td>\n",
       "      <td>Stephenson, Neal</td>\n",
       "      <td>4.19</td>\n",
       "      <td>72,671</td>\n",
       "      <td>5</td>\n",
       "      <td></td>\n",
       "      <td></td>\n",
       "      <td>May 21, 2011</td>\n",
       "      <td>iv&gt;&lt;/td&gt;</td>\n",
       "      <td>Stephenson, Neal || The Diamond Age</td>\n",
       "    </tr>\n",
       "  </tbody>\n",
       "</table>\n",
       "</div>"
      ],
      "text/plain": [
       "  userid      shelf               review_url              title  \\\n",
       "0      1  adventure  /review/show/1087761751           Papillon   \n",
       "1      1  adventure  /review/show/1063234077           Stardust   \n",
       "2      1  adventure   /review/show/359992088    Alif the Unseen   \n",
       "3      1  adventure   /review/show/273133790  The Technologists   \n",
       "4      1  adventure   /review/show/170000076    The Diamond Age   \n",
       "\n",
       "              author avg_rating times_rated rating comments    likes  \\\n",
       "0   Charrière, Henri       4.24      47,157      4        0        3   \n",
       "1       Gaiman, Neil       4.08     302,140      5                     \n",
       "2  Wilson, G. Willow       3.84      14,087      3                     \n",
       "3     Pearl, Matthew       3.50       3,243      0        0  not set   \n",
       "4   Stephenson, Neal       4.19      72,671      5                     \n",
       "\n",
       "     date_added        isbn                                bookid  \n",
       "0  Oct 23, 2014  0061120669          Charrière, Henri || Papillon  \n",
       "1  Sep 24, 2014  iv></td>                Gaiman, Neil || Stardust  \n",
       "2  Jul 02, 2012  0802120202  Wilson, G. Willow || Alif the Unseen  \n",
       "3  Feb 06, 2012  1400066573   Pearl, Matthew || The Technologists  \n",
       "4  May 21, 2011  iv></td>     Stephenson, Neal || The Diamond Age  "
      ]
     },
     "execution_count": 9,
     "metadata": {},
     "output_type": "execute_result"
    }
   ],
   "source": [
    "cols = ['userid', 'shelf', 'review_url', 'title', 'author', 'avg_rating', 'times_rated', 'rating', 'comments', 'likes', 'date_added', 'isbn']\n",
    "df = pd.DataFrame.from_records(records, columns = cols)\n",
    "df['bookid'] = df.author + ' || ' +df.title\n",
    "df.head()"
   ]
  },
  {
   "cell_type": "code",
   "execution_count": 10,
   "metadata": {},
   "outputs": [
    {
     "name": "stdout",
     "output_type": "stream",
     "text": [
      "unique shelves 18657\n",
      "unique books 332274\n",
      "unique users 1812\n"
     ]
    }
   ],
   "source": [
    "print('unique shelves', len(df.shelf.unique()))\n",
    "print('unique books', len(df.bookid.unique()))\n",
    "print('unique users', len(df.userid.unique()))"
   ]
  },
  {
   "cell_type": "code",
   "execution_count": 11,
   "metadata": {},
   "outputs": [],
   "source": [
    "os.chdir('..')\n",
    "df.to_csv('10-26 raw scrapes.csv')"
   ]
  },
  {
   "cell_type": "code",
   "execution_count": 2,
   "metadata": {},
   "outputs": [
    {
     "name": "stderr",
     "output_type": "stream",
     "text": [
      "C:\\Users\\mburn\\Anaconda3\\lib\\site-packages\\IPython\\core\\interactiveshell.py:2728: DtypeWarning: Columns (6,8,9) have mixed types. Specify dtype option on import or set low_memory=False.\n",
      "  interactivity=interactivity, compiler=compiler, result=result)\n"
     ]
    }
   ],
   "source": [
    "df = pd.read_csv('10-26 raw scrapes.csv')"
   ]
  },
  {
   "cell_type": "code",
   "execution_count": 4,
   "metadata": {},
   "outputs": [
    {
     "data": {
      "text/plain": [
       "1803900"
      ]
     },
     "execution_count": 4,
     "metadata": {},
     "output_type": "execute_result"
    }
   ],
   "source": [
    "df = df.drop_duplicates(subset=['userid', 'bookid'])\n",
    "len(df)"
   ]
  },
  {
   "cell_type": "code",
   "execution_count": 4,
   "metadata": {},
   "outputs": [
    {
     "data": {
      "text/html": [
       "<div>\n",
       "<style scoped>\n",
       "    .dataframe tbody tr th:only-of-type {\n",
       "        vertical-align: middle;\n",
       "    }\n",
       "\n",
       "    .dataframe tbody tr th {\n",
       "        vertical-align: top;\n",
       "    }\n",
       "\n",
       "    .dataframe thead th {\n",
       "        text-align: right;\n",
       "    }\n",
       "</style>\n",
       "<table border=\"1\" class=\"dataframe\">\n",
       "  <thead>\n",
       "    <tr style=\"text-align: right;\">\n",
       "      <th></th>\n",
       "      <th>Unnamed: 0</th>\n",
       "      <th>userid</th>\n",
       "      <th>shelf</th>\n",
       "      <th>review_url</th>\n",
       "      <th>title</th>\n",
       "      <th>author</th>\n",
       "      <th>avg_rating</th>\n",
       "      <th>times_rated</th>\n",
       "      <th>rating</th>\n",
       "      <th>comments</th>\n",
       "      <th>likes</th>\n",
       "      <th>date_added</th>\n",
       "      <th>isbn</th>\n",
       "      <th>bookid</th>\n",
       "    </tr>\n",
       "  </thead>\n",
       "  <tbody>\n",
       "    <tr>\n",
       "      <th>0</th>\n",
       "      <td>0</td>\n",
       "      <td>11372510</td>\n",
       "      <td>favorites</td>\n",
       "      <td>/review/show/2471723375</td>\n",
       "      <td>Saint's Blood (Greatcoats, #3)</td>\n",
       "      <td>de Castell, Sebastien</td>\n",
       "      <td>4.30</td>\n",
       "      <td>4,417</td>\n",
       "      <td>5</td>\n",
       "      <td>0</td>\n",
       "      <td>1</td>\n",
       "      <td>Jul 26, 2018</td>\n",
       "      <td>1782066802</td>\n",
       "      <td>de Castell, Sebastien || Saint's Blood (Greatc...</td>\n",
       "    </tr>\n",
       "    <tr>\n",
       "      <th>1</th>\n",
       "      <td>1</td>\n",
       "      <td>11372510</td>\n",
       "      <td>favorites</td>\n",
       "      <td>/review/show/2471723184</td>\n",
       "      <td>Knight's Shadow (Greatcoats, #2)</td>\n",
       "      <td>de Castell, Sebastien</td>\n",
       "      <td>4.26</td>\n",
       "      <td>6,630</td>\n",
       "      <td>5</td>\n",
       "      <td>0</td>\n",
       "      <td>3</td>\n",
       "      <td>Jul 26, 2018</td>\n",
       "      <td>1782066772</td>\n",
       "      <td>de Castell, Sebastien || Knight's Shadow (Grea...</td>\n",
       "    </tr>\n",
       "    <tr>\n",
       "      <th>2</th>\n",
       "      <td>2</td>\n",
       "      <td>11372510</td>\n",
       "      <td>favorites</td>\n",
       "      <td>/review/show/2439946945</td>\n",
       "      <td>Traitor's Blade (Greatcoats, #1)</td>\n",
       "      <td>de Castell, Sebastien</td>\n",
       "      <td>4.07</td>\n",
       "      <td>12,790</td>\n",
       "      <td>5</td>\n",
       "      <td>NaN</td>\n",
       "      <td>NaN</td>\n",
       "      <td>Jun 29, 2018</td>\n",
       "      <td>184866379X</td>\n",
       "      <td>de Castell, Sebastien || Traitor's Blade (Grea...</td>\n",
       "    </tr>\n",
       "    <tr>\n",
       "      <th>3</th>\n",
       "      <td>3</td>\n",
       "      <td>11372510</td>\n",
       "      <td>favorites</td>\n",
       "      <td>/review/show/2378103609</td>\n",
       "      <td>You Are a Badass: How to Stop Doubting Your Gr...</td>\n",
       "      <td>Sincero, Jen</td>\n",
       "      <td>4.00</td>\n",
       "      <td>73,220</td>\n",
       "      <td>5</td>\n",
       "      <td>NaN</td>\n",
       "      <td>NaN</td>\n",
       "      <td>Apr 30, 2018</td>\n",
       "      <td>0762447699</td>\n",
       "      <td>Sincero, Jen || You Are a Badass: How to Stop ...</td>\n",
       "    </tr>\n",
       "    <tr>\n",
       "      <th>4</th>\n",
       "      <td>4</td>\n",
       "      <td>11372510</td>\n",
       "      <td>favorites</td>\n",
       "      <td>/review/show/2175881035</td>\n",
       "      <td>Spectyr (Book of the Order, #2)</td>\n",
       "      <td>Ballantine, Philippa</td>\n",
       "      <td>3.88</td>\n",
       "      <td>1,546</td>\n",
       "      <td>4</td>\n",
       "      <td>NaN</td>\n",
       "      <td>NaN</td>\n",
       "      <td>Nov 06, 2017</td>\n",
       "      <td>0441020518</td>\n",
       "      <td>Ballantine, Philippa || Spectyr (Book of the O...</td>\n",
       "    </tr>\n",
       "  </tbody>\n",
       "</table>\n",
       "</div>"
      ],
      "text/plain": [
       "   Unnamed: 0    userid      shelf               review_url  \\\n",
       "0           0  11372510  favorites  /review/show/2471723375   \n",
       "1           1  11372510  favorites  /review/show/2471723184   \n",
       "2           2  11372510  favorites  /review/show/2439946945   \n",
       "3           3  11372510  favorites  /review/show/2378103609   \n",
       "4           4  11372510  favorites  /review/show/2175881035   \n",
       "\n",
       "                                               title                 author  \\\n",
       "0                     Saint's Blood (Greatcoats, #3)  de Castell, Sebastien   \n",
       "1                   Knight's Shadow (Greatcoats, #2)  de Castell, Sebastien   \n",
       "2                   Traitor's Blade (Greatcoats, #1)  de Castell, Sebastien   \n",
       "3  You Are a Badass: How to Stop Doubting Your Gr...           Sincero, Jen   \n",
       "4                    Spectyr (Book of the Order, #2)   Ballantine, Philippa   \n",
       "\n",
       "  avg_rating times_rated rating comments likes    date_added        isbn  \\\n",
       "0       4.30       4,417      5        0     1  Jul 26, 2018  1782066802   \n",
       "1       4.26       6,630      5        0     3  Jul 26, 2018  1782066772   \n",
       "2       4.07      12,790      5      NaN   NaN  Jun 29, 2018  184866379X   \n",
       "3       4.00      73,220      5      NaN   NaN  Apr 30, 2018  0762447699   \n",
       "4       3.88       1,546      4      NaN   NaN  Nov 06, 2017  0441020518   \n",
       "\n",
       "                                              bookid  \n",
       "0  de Castell, Sebastien || Saint's Blood (Greatc...  \n",
       "1  de Castell, Sebastien || Knight's Shadow (Grea...  \n",
       "2  de Castell, Sebastien || Traitor's Blade (Grea...  \n",
       "3  Sincero, Jen || You Are a Badass: How to Stop ...  \n",
       "4  Ballantine, Philippa || Spectyr (Book of the O...  "
      ]
     },
     "execution_count": 4,
     "metadata": {},
     "output_type": "execute_result"
    }
   ],
   "source": [
    "df.head()"
   ]
  },
  {
   "cell_type": "code",
   "execution_count": 6,
   "metadata": {},
   "outputs": [],
   "source": [
    "num_cols = ['avg_rating', 'times_rated', 'rating', 'comments', 'likes']\n",
    "\n",
    "#df.times_rated = df.times_rated.apply(lambda x: x.replace(',',''))\n",
    "\n",
    "for column in num_cols:\n",
    "    df[column]= pd.to_numeric(df[column], errors='coerce')\n",
    "\n",
    "df.fillna(0, inplace=True)\n",
    "\n",
    "int_cols = num_cols[1:]\n",
    "for col in int_cols:\n",
    "    df[col]=df[col].astype(int, errors='ignore')"
   ]
  },
  {
   "cell_type": "code",
   "execution_count": 7,
   "metadata": {},
   "outputs": [
    {
     "data": {
      "text/plain": [
       " 0       601880\n",
       " 4       451319\n",
       " 3       325837\n",
       " 5       284550\n",
       " 2       103041\n",
       " 1        35807\n",
       " 6          150\n",
       " 7          108\n",
       " 8           69\n",
       " 9           60\n",
       " 10          48\n",
       " 11          34\n",
       " 2010        28\n",
       " 2003        23\n",
       " 2007        23\n",
       " 12          23\n",
       " 2001        22\n",
       " 1999        22\n",
       " 2004        20\n",
       " 2006        20\n",
       " 2002        20\n",
       " 1985        20\n",
       " 1983        20\n",
       " 1997        20\n",
       " 1996        20\n",
       " 13          19\n",
       " 2009        19\n",
       " 2008        19\n",
       " 1992        18\n",
       " 1993        18\n",
       "          ...  \n",
       " 1889         1\n",
       " 33           1\n",
       " 1858         1\n",
       " 1856         1\n",
       " 1854         1\n",
       " 1844         1\n",
       " 1818         1\n",
       " 1892         1\n",
       "-500          1\n",
       " 1519         1\n",
       " 1410         1\n",
       " 197          1\n",
       " 1220         1\n",
       " 142          1\n",
       " 110          1\n",
       " 102          1\n",
       " 89           1\n",
       " 85           1\n",
       " 67           1\n",
       " 60           1\n",
       " 59           1\n",
       " 49           1\n",
       " 47           1\n",
       " 42           1\n",
       " 40           1\n",
       " 39           1\n",
       " 37           1\n",
       " 36           1\n",
       " 35           1\n",
       " 32           1\n",
       "Name: rating, Length: 162, dtype: int64"
      ]
     },
     "execution_count": 7,
     "metadata": {},
     "output_type": "execute_result"
    }
   ],
   "source": [
    "df.rating.value_counts()"
   ]
  },
  {
   "cell_type": "code",
   "execution_count": 8,
   "metadata": {},
   "outputs": [],
   "source": [
    "df=df[df.shelf != 'Read']\n",
    "df=df[df.shelf != 'Want']\n",
    "df=df[df.rating > 0]\n",
    "df=df[df.rating < 6]"
   ]
  },
  {
   "cell_type": "code",
   "execution_count": 9,
   "metadata": {},
   "outputs": [
    {
     "data": {
      "text/plain": [
       "1200554"
      ]
     },
     "execution_count": 9,
     "metadata": {},
     "output_type": "execute_result"
    }
   ],
   "source": [
    "len(df)"
   ]
  },
  {
   "cell_type": "code",
   "execution_count": 10,
   "metadata": {},
   "outputs": [
    {
     "data": {
      "text/plain": [
       "iv></td>      226499\n",
       "0439023483       753\n",
       "0439554934       722\n",
       "0451524934       677\n",
       "0439139600       654\n",
       "0545010225       651\n",
       "043965548X       640\n",
       "0439064864       636\n",
       "0439023491       635\n",
       "0439358078       631\n",
       "0439785960       619\n",
       "0439023513       606\n",
       "0618260307       583\n",
       "0061120081       573\n",
       "0812550706       545\n",
       "0452284244       496\n",
       "0316015849       474\n",
       "0316769177       470\n",
       "038549081X       468\n",
       "0060929871       454\n",
       "0553588486       450\n",
       "0525478817       446\n",
       "0345391802       444\n",
       "0804139024       440\n",
       "0679783261       438\n",
       "0618346252       410\n",
       "0307277674       405\n",
       "030788743X       403\n",
       "0140283331       394\n",
       "0340839937       387\n",
       "               ...  \n",
       "9023419677         1\n",
       "2265067806         1\n",
       "0691083886         1\n",
       "0803732554         1\n",
       "1419912461         1\n",
       "1741798523         1\n",
       "0978846060         1\n",
       "8172154054         1\n",
       "1400158362         1\n",
       "0373011075         1\n",
       "8834713958         1\n",
       "1567318258         1\n",
       "1622664949         1\n",
       "3868385444         1\n",
       "193154171X         1\n",
       "0451465032         1\n",
       "0811845265         1\n",
       "0852639775         1\n",
       "1909807567         1\n",
       "1619760274         1\n",
       "0099598167         1\n",
       "8170590841         1\n",
       "1620409615         1\n",
       "0750937475         1\n",
       "0393323161         1\n",
       "1455536067         1\n",
       "8804376147         1\n",
       "006207024X         1\n",
       "0316037680         1\n",
       "1406819433         1\n",
       "Name: isbn, Length: 356706, dtype: int64"
      ]
     },
     "execution_count": 10,
     "metadata": {},
     "output_type": "execute_result"
    }
   ],
   "source": [
    "df.isbn.value_counts()"
   ]
  },
  {
   "cell_type": "code",
   "execution_count": null,
   "metadata": {},
   "outputs": [],
   "source": []
  },
  {
   "cell_type": "code",
   "execution_count": 11,
   "metadata": {},
   "outputs": [],
   "source": [
    "def isbn_hash(row):\n",
    "    isbn= row['isbn']\n",
    "    bookid =row['bookid']\n",
    "    if isbn == 'iv></td>  ':\n",
    "        isbn = 'hash_'+ hashlib.md5(bookid.encode('utf-8')).hexdigest()\n",
    "    else:\n",
    "        isbn = 'isbn_'+str(isbn)\n",
    "    return isbn"
   ]
  },
  {
   "cell_type": "code",
   "execution_count": null,
   "metadata": {},
   "outputs": [],
   "source": []
  },
  {
   "cell_type": "code",
   "execution_count": 12,
   "metadata": {},
   "outputs": [],
   "source": [
    "a = df.apply(isbn_hash, axis=1)\n",
    "\n",
    "df.isbn = a "
   ]
  },
  {
   "cell_type": "code",
   "execution_count": 13,
   "metadata": {},
   "outputs": [
    {
     "data": {
      "text/plain": [
       "isbn_0439023483                          753\n",
       "isbn_0439554934                          722\n",
       "isbn_0451524934                          677\n",
       "isbn_0439139600                          654\n",
       "isbn_0545010225                          651\n",
       "isbn_043965548X                          640\n",
       "isbn_0439064864                          636\n",
       "isbn_0439023491                          635\n",
       "isbn_0439358078                          631\n",
       "isbn_0439785960                          619\n",
       "hash_cb38396eb08f54909e2439ed51c4efed    616\n",
       "isbn_0439023513                          606\n",
       "isbn_0618260307                          583\n",
       "isbn_0061120081                          573\n",
       "isbn_0812550706                          545\n",
       "isbn_0452284244                          496\n",
       "isbn_0316015849                          474\n",
       "isbn_0316769177                          470\n",
       "isbn_038549081X                          468\n",
       "isbn_0060929871                          454\n",
       "isbn_0553588486                          450\n",
       "isbn_0525478817                          446\n",
       "isbn_0345391802                          444\n",
       "isbn_0804139024                          440\n",
       "isbn_0679783261                          438\n",
       "isbn_0618346252                          410\n",
       "isbn_0307277674                          405\n",
       "isbn_030788743X                          403\n",
       "isbn_0140283331                          394\n",
       "isbn_0340839937                          387\n",
       "                                        ... \n",
       "isbn_0062241788                            1\n",
       "isbn_0393037118                            1\n",
       "isbn_1589801369                            1\n",
       "isbn_0449224988                            1\n",
       "hash_d258c61f5dfe1b0572ae65b37aa97849      1\n",
       "isbn_0300098642                            1\n",
       "hash_3219463ac3ad8c52f044faa959a5aaae      1\n",
       "hash_a8ac972d818e21ba16c17f7f20a492f2      1\n",
       "hash_0b21e73053e5fdd05a9ed8753ca4d365      1\n",
       "hash_8d19062c8012b5094cfcaffd02689ba2      1\n",
       "hash_b02cb00f392934e094294b1285ebe610      1\n",
       "isbn_1565048229                            1\n",
       "isbn_0586052054                            1\n",
       "isbn_1459215702                            1\n",
       "isbn_0091827914                            1\n",
       "hash_fc461d8130aae40284e9f4a521b333df      1\n",
       "isbn_0373750943                            1\n",
       "isbn_0899970230                            1\n",
       "hash_905c011f247dfe6883ecefebcbe93c98      1\n",
       "isbn_0805003835                            1\n",
       "hash_cbd738bdcfeced96eee911dd122b619a      1\n",
       "isbn_9021006073                            1\n",
       "isbn_1862309140                            1\n",
       "isbn_9896602077                            1\n",
       "isbn_0002171856                            1\n",
       "isbn_1406305766                            1\n",
       "isbn_0871134713                            1\n",
       "isbn_0785128182                            1\n",
       "hash_5024adc4930526541df5f445e66ae6fa      1\n",
       "isbn_1934356298                            1\n",
       "Name: isbn, Length: 496408, dtype: int64"
      ]
     },
     "execution_count": 13,
     "metadata": {},
     "output_type": "execute_result"
    }
   ],
   "source": [
    "df.isbn.value_counts()"
   ]
  },
  {
   "cell_type": "code",
   "execution_count": 5,
   "metadata": {},
   "outputs": [
    {
     "ename": "TypeError",
     "evalue": "unsupported operand type(s) for -: 'str' and 'float'",
     "output_type": "error",
     "traceback": [
      "\u001b[1;31m---------------------------------------------------------------------------\u001b[0m",
      "\u001b[1;31mTypeError\u001b[0m                                 Traceback (most recent call last)",
      "\u001b[1;32m<ipython-input-5-6b4d47f48376>\u001b[0m in \u001b[0;36m<module>\u001b[1;34m()\u001b[0m\n\u001b[1;32m----> 1\u001b[1;33m \u001b[0mplt\u001b[0m\u001b[1;33m.\u001b[0m\u001b[0mbar\u001b[0m\u001b[1;33m(\u001b[0m\u001b[0mdf\u001b[0m\u001b[1;33m.\u001b[0m\u001b[0mrating\u001b[0m\u001b[1;33m.\u001b[0m\u001b[0mvalue_counts\u001b[0m\u001b[1;33m(\u001b[0m\u001b[1;33m)\u001b[0m\u001b[1;33m.\u001b[0m\u001b[0mindex\u001b[0m\u001b[1;33m,\u001b[0m \u001b[0mdf\u001b[0m\u001b[1;33m.\u001b[0m\u001b[0mrating\u001b[0m\u001b[1;33m.\u001b[0m\u001b[0mvalue_counts\u001b[0m\u001b[1;33m(\u001b[0m\u001b[1;33m)\u001b[0m\u001b[1;33m.\u001b[0m\u001b[0mvalues\u001b[0m\u001b[1;33m)\u001b[0m\u001b[1;33m\u001b[0m\u001b[0m\n\u001b[0m",
      "\u001b[1;32m~\\Anaconda3\\lib\\site-packages\\matplotlib\\pyplot.py\u001b[0m in \u001b[0;36mbar\u001b[1;34m(*args, **kwargs)\u001b[0m\n\u001b[0;32m   2646\u001b[0m                       mplDeprecation)\n\u001b[0;32m   2647\u001b[0m     \u001b[1;32mtry\u001b[0m\u001b[1;33m:\u001b[0m\u001b[1;33m\u001b[0m\u001b[0m\n\u001b[1;32m-> 2648\u001b[1;33m         \u001b[0mret\u001b[0m \u001b[1;33m=\u001b[0m \u001b[0max\u001b[0m\u001b[1;33m.\u001b[0m\u001b[0mbar\u001b[0m\u001b[1;33m(\u001b[0m\u001b[1;33m*\u001b[0m\u001b[0margs\u001b[0m\u001b[1;33m,\u001b[0m \u001b[1;33m**\u001b[0m\u001b[0mkwargs\u001b[0m\u001b[1;33m)\u001b[0m\u001b[1;33m\u001b[0m\u001b[0m\n\u001b[0m\u001b[0;32m   2649\u001b[0m     \u001b[1;32mfinally\u001b[0m\u001b[1;33m:\u001b[0m\u001b[1;33m\u001b[0m\u001b[0m\n\u001b[0;32m   2650\u001b[0m         \u001b[0max\u001b[0m\u001b[1;33m.\u001b[0m\u001b[0m_hold\u001b[0m \u001b[1;33m=\u001b[0m \u001b[0mwashold\u001b[0m\u001b[1;33m\u001b[0m\u001b[0m\n",
      "\u001b[1;32m~\\Anaconda3\\lib\\site-packages\\matplotlib\\__init__.py\u001b[0m in \u001b[0;36minner\u001b[1;34m(ax, *args, **kwargs)\u001b[0m\n\u001b[0;32m   1715\u001b[0m                     warnings.warn(msg % (label_namer, func.__name__),\n\u001b[0;32m   1716\u001b[0m                                   RuntimeWarning, stacklevel=2)\n\u001b[1;32m-> 1717\u001b[1;33m             \u001b[1;32mreturn\u001b[0m \u001b[0mfunc\u001b[0m\u001b[1;33m(\u001b[0m\u001b[0max\u001b[0m\u001b[1;33m,\u001b[0m \u001b[1;33m*\u001b[0m\u001b[0margs\u001b[0m\u001b[1;33m,\u001b[0m \u001b[1;33m**\u001b[0m\u001b[0mkwargs\u001b[0m\u001b[1;33m)\u001b[0m\u001b[1;33m\u001b[0m\u001b[0m\n\u001b[0m\u001b[0;32m   1718\u001b[0m         \u001b[0mpre_doc\u001b[0m \u001b[1;33m=\u001b[0m \u001b[0minner\u001b[0m\u001b[1;33m.\u001b[0m\u001b[0m__doc__\u001b[0m\u001b[1;33m\u001b[0m\u001b[0m\n\u001b[0;32m   1719\u001b[0m         \u001b[1;32mif\u001b[0m \u001b[0mpre_doc\u001b[0m \u001b[1;32mis\u001b[0m \u001b[1;32mNone\u001b[0m\u001b[1;33m:\u001b[0m\u001b[1;33m\u001b[0m\u001b[0m\n",
      "\u001b[1;32m~\\Anaconda3\\lib\\site-packages\\matplotlib\\axes\\_axes.py\u001b[0m in \u001b[0;36mbar\u001b[1;34m(self, *args, **kwargs)\u001b[0m\n\u001b[0;32m   2064\u001b[0m         \u001b[1;32mif\u001b[0m \u001b[0malign\u001b[0m \u001b[1;33m==\u001b[0m \u001b[1;34m'center'\u001b[0m\u001b[1;33m:\u001b[0m\u001b[1;33m\u001b[0m\u001b[0m\n\u001b[0;32m   2065\u001b[0m             \u001b[1;32mif\u001b[0m \u001b[0morientation\u001b[0m \u001b[1;33m==\u001b[0m \u001b[1;34m'vertical'\u001b[0m\u001b[1;33m:\u001b[0m\u001b[1;33m\u001b[0m\u001b[0m\n\u001b[1;32m-> 2066\u001b[1;33m                 \u001b[0mleft\u001b[0m \u001b[1;33m=\u001b[0m \u001b[0mx\u001b[0m \u001b[1;33m-\u001b[0m \u001b[0mwidth\u001b[0m \u001b[1;33m/\u001b[0m \u001b[1;36m2\u001b[0m\u001b[1;33m\u001b[0m\u001b[0m\n\u001b[0m\u001b[0;32m   2067\u001b[0m                 \u001b[0mbottom\u001b[0m \u001b[1;33m=\u001b[0m \u001b[0my\u001b[0m\u001b[1;33m\u001b[0m\u001b[0m\n\u001b[0;32m   2068\u001b[0m             \u001b[1;32melif\u001b[0m \u001b[0morientation\u001b[0m \u001b[1;33m==\u001b[0m \u001b[1;34m'horizontal'\u001b[0m\u001b[1;33m:\u001b[0m\u001b[1;33m\u001b[0m\u001b[0m\n",
      "\u001b[1;31mTypeError\u001b[0m: unsupported operand type(s) for -: 'str' and 'float'"
     ]
    },
    {
     "data": {
      "image/png": "[encoded data removed]",
      "text/plain": [
       "<matplotlib.figure.Figure at 0x1c54772cef0>"
      ]
     },
     "metadata": {},
     "output_type": "display_data"
    }
   ],
   "source": [
    "plt.bar(df.rating.value_counts().index, df.rating.value_counts().values)"
   ]
  },
  {
   "cell_type": "code",
   "execution_count": 51,
   "metadata": {},
   "outputs": [
    {
     "data": {
      "text/plain": [
       "'/home/michael/OneDrive/ds/metis/bootcamp/projects/metis_03-McNulty'"
      ]
     },
     "execution_count": 51,
     "metadata": {},
     "output_type": "execute_result"
    }
   ],
   "source": [
    "os.chdir('..')\n",
    "os.getcwd()"
   ]
  },
  {
   "cell_type": "code",
   "execution_count": 16,
   "metadata": {},
   "outputs": [],
   "source": [
    "df.to_csv('10-26 full cleaned df.csv')"
   ]
  },
  {
   "cell_type": "code",
   "execution_count": 18,
   "metadata": {
    "scrolled": true
   },
   "outputs": [
    {
     "data": {
      "text/html": [
       "<div>\n",
       "<style scoped>\n",
       "    .dataframe tbody tr th:only-of-type {\n",
       "        vertical-align: middle;\n",
       "    }\n",
       "\n",
       "    .dataframe tbody tr th {\n",
       "        vertical-align: top;\n",
       "    }\n",
       "\n",
       "    .dataframe thead th {\n",
       "        text-align: right;\n",
       "    }\n",
       "</style>\n",
       "<table border=\"1\" class=\"dataframe\">\n",
       "  <thead>\n",
       "    <tr style=\"text-align: right;\">\n",
       "      <th></th>\n",
       "      <th>userid</th>\n",
       "      <th>isbn</th>\n",
       "      <th>rating</th>\n",
       "    </tr>\n",
       "  </thead>\n",
       "  <tbody>\n",
       "    <tr>\n",
       "      <th>0</th>\n",
       "      <td>11372510</td>\n",
       "      <td>isbn_1782066802</td>\n",
       "      <td>5</td>\n",
       "    </tr>\n",
       "    <tr>\n",
       "      <th>1</th>\n",
       "      <td>11372510</td>\n",
       "      <td>isbn_1782066772</td>\n",
       "      <td>5</td>\n",
       "    </tr>\n",
       "    <tr>\n",
       "      <th>2</th>\n",
       "      <td>11372510</td>\n",
       "      <td>isbn_184866379X</td>\n",
       "      <td>5</td>\n",
       "    </tr>\n",
       "    <tr>\n",
       "      <th>3</th>\n",
       "      <td>11372510</td>\n",
       "      <td>isbn_0762447699</td>\n",
       "      <td>5</td>\n",
       "    </tr>\n",
       "    <tr>\n",
       "      <th>4</th>\n",
       "      <td>11372510</td>\n",
       "      <td>isbn_0441020518</td>\n",
       "      <td>4</td>\n",
       "    </tr>\n",
       "  </tbody>\n",
       "</table>\n",
       "</div>"
      ],
      "text/plain": [
       "     userid             isbn  rating\n",
       "0  11372510  isbn_1782066802       5\n",
       "1  11372510  isbn_1782066772       5\n",
       "2  11372510  isbn_184866379X       5\n",
       "3  11372510  isbn_0762447699       5\n",
       "4  11372510  isbn_0441020518       4"
      ]
     },
     "execution_count": 18,
     "metadata": {},
     "output_type": "execute_result"
    }
   ],
   "source": [
    "df3 = df[['userid', 'isbn', 'rating']]\n",
    "df3.head()"
   ]
  },
  {
   "cell_type": "code",
   "execution_count": 20,
   "metadata": {},
   "outputs": [],
   "source": [
    "df3.to_csv('10-26 rating info.csv', index=False)"
   ]
  },
  {
   "cell_type": "code",
   "execution_count": null,
   "metadata": {},
   "outputs": [],
   "source": []
  },
  {
   "cell_type": "code",
   "execution_count": null,
   "metadata": {},
   "outputs": [],
   "source": []
  },
  {
   "cell_type": "code",
   "execution_count": 7,
   "metadata": {},
   "outputs": [
    {
     "data": {
      "text/html": [
       "<div>\n",
       "<style scoped>\n",
       "    .dataframe tbody tr th:only-of-type {\n",
       "        vertical-align: middle;\n",
       "    }\n",
       "\n",
       "    .dataframe tbody tr th {\n",
       "        vertical-align: top;\n",
       "    }\n",
       "\n",
       "    .dataframe thead th {\n",
       "        text-align: right;\n",
       "    }\n",
       "</style>\n",
       "<table border=\"1\" class=\"dataframe\">\n",
       "  <thead>\n",
       "    <tr style=\"text-align: right;\">\n",
       "      <th></th>\n",
       "      <th>userid</th>\n",
       "      <th>isbn</th>\n",
       "      <th>rating</th>\n",
       "    </tr>\n",
       "  </thead>\n",
       "  <tbody>\n",
       "    <tr>\n",
       "      <th>0</th>\n",
       "      <td>11372510</td>\n",
       "      <td>1782066802</td>\n",
       "      <td>5</td>\n",
       "    </tr>\n",
       "    <tr>\n",
       "      <th>1</th>\n",
       "      <td>11372510</td>\n",
       "      <td>1782066772</td>\n",
       "      <td>5</td>\n",
       "    </tr>\n",
       "    <tr>\n",
       "      <th>2</th>\n",
       "      <td>11372510</td>\n",
       "      <td>184866379X</td>\n",
       "      <td>5</td>\n",
       "    </tr>\n",
       "    <tr>\n",
       "      <th>3</th>\n",
       "      <td>11372510</td>\n",
       "      <td>0762447699</td>\n",
       "      <td>5</td>\n",
       "    </tr>\n",
       "    <tr>\n",
       "      <th>4</th>\n",
       "      <td>11372510</td>\n",
       "      <td>0441020518</td>\n",
       "      <td>4</td>\n",
       "    </tr>\n",
       "  </tbody>\n",
       "</table>\n",
       "</div>"
      ],
      "text/plain": [
       "     userid        isbn rating\n",
       "0  11372510  1782066802      5\n",
       "1  11372510  1782066772      5\n",
       "2  11372510  184866379X      5\n",
       "3  11372510  0762447699      5\n",
       "4  11372510  0441020518      4"
      ]
     },
     "execution_count": 7,
     "metadata": {},
     "output_type": "execute_result"
    }
   ],
   "source": [
    "df[['userid', 'isbn', 'rating']].head()"
   ]
  },
  {
   "cell_type": "code",
   "execution_count": 9,
   "metadata": {},
   "outputs": [
    {
     "data": {
      "text/plain": [
       "4093"
      ]
     },
     "execution_count": 9,
     "metadata": {},
     "output_type": "execute_result"
    }
   ],
   "source": [
    "len(df.userid.unique())"
   ]
  },
  {
   "cell_type": "code",
   "execution_count": null,
   "metadata": {},
   "outputs": [],
   "source": []
  }
 ],
 "metadata": {
  "kernelspec": {
   "display_name": "Python 3",
   "language": "python",
   "name": "python3"
  },
  "language_info": {
   "codemirror_mode": {
    "name": "ipython",
    "version": 3
   },
   "file_extension": ".py",
   "mimetype": "text/x-python",
   "name": "python",
   "nbconvert_exporter": "python",
   "pygments_lexer": "ipython3",
   "version": "3.6.4"
  }
 },
 "nbformat": 4,
 "nbformat_minor": 2
}
